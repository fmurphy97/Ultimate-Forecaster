{
 "cells": [
  {
   "cell_type": "code",
   "execution_count": null,
   "id": "initial_id",
   "metadata": {
    "collapsed": true
   },
   "outputs": [],
   "source": [
    "from forecasting_models.model_selector import select_forecasting_model\n",
    "from metrics.metric_selector import error_selector\n",
    "from utils.testing_functions import split_series\n",
    "from utils.plots import plot_df\n",
    "import pandas as pd"
   ]
  },
  {
   "cell_type": "code",
   "execution_count": null,
   "outputs": [],
   "source": [
    "df_alb = pd.read_csv(\"data/peajes_alberdi_training_preproc.csv\")\n",
    "df_alb['date'] = pd.to_datetime(df_alb['fecha'], format = '%Y-%m-%d')"
   ],
   "metadata": {
    "collapsed": false
   },
   "id": "db70f1e9e33ee9f"
  },
  {
   "cell_type": "code",
   "execution_count": null,
   "outputs": [],
   "source": [
    "df_alb_train = df_alb.copy()[df_alb['date'] < '2019-07-01']\n",
    "df_alb_test = df_alb.copy()[df_alb['date'] >= '2019-07-01']"
   ],
   "metadata": {
    "collapsed": false
   },
   "id": "99f981b5d5ba4f71"
  },
  {
   "cell_type": "code",
   "execution_count": null,
   "outputs": [],
   "source": [
    "models_ran = []\n",
    "test_error_by_model = {}"
   ],
   "metadata": {
    "collapsed": false
   },
   "id": "81fabe04e98ffcac"
  },
  {
   "cell_type": "code",
   "execution_count": null,
   "outputs": [],
   "source": [
    "x_feature_name = \"date\"\n",
    "y_feature_name = \"cantidad_pasos\""
   ],
   "metadata": {
    "collapsed": false
   },
   "id": "cca733673ef055b0"
  },
  {
   "cell_type": "code",
   "execution_count": null,
   "outputs": [],
   "source": [
    "model_class = select_forecasting_model(\"arima\")\n",
    "\n",
    "model_instance = model_class(df=df_alb_train.copy(), x_col_name=x_feature_name, y_col_name=y_feature_name, order=(7, 0, 3))\n",
    "model_instance.fit_train()\n",
    "fitted_data, predicted_data = model_instance.predict(df_alb_test.copy()[[x_feature_name]])\n",
    "df_alb[model_instance.model_name] = fitted_data + predicted_data\n",
    "models_ran.append(model_instance.model_name)\n",
    "plot_df(df_alb, x_col=x_feature_name, y_cols=[y_feature_name, model_instance.model_name], min_date=\"2019-01-01\")"
   ],
   "metadata": {
    "collapsed": false
   },
   "id": "ccc4ea40fdee1949"
  },
  {
   "cell_type": "code",
   "execution_count": null,
   "outputs": [],
   "source": [
    "model_class = select_forecasting_model(\"Naive\")\n",
    "\n",
    "for periods in [7, 364]:\n",
    "    model_instance = model_class(df=df_alb_train.copy(), x_col_name=x_feature_name, y_col_name=y_feature_name, n_periods=periods)\n",
    "    model_instance.fit_train()\n",
    "    fitted_data, predicted_data = model_instance.predict(df_alb_test.copy()[[x_feature_name]])\n",
    "    df_alb[model_instance.model_name] = fitted_data + predicted_data\n",
    "    models_ran.append(model_instance.model_name)\n",
    "    plot_df(df_alb, x_col=x_feature_name, y_cols=[y_feature_name, model_instance.model_name], min_date=\"2019-01-01\")"
   ],
   "metadata": {
    "collapsed": false
   },
   "id": "c640c83d50931619"
  },
  {
   "cell_type": "code",
   "execution_count": null,
   "outputs": [],
   "source": [
    "# ERROR USAGE EXAMPLE\n",
    "error_class = error_selector(\"MAPE\")\n",
    "\n",
    "model_class = select_forecasting_model(\"Naive\")\n",
    "whole_df = df_alb_train.copy()\n",
    "\n",
    "\n",
    "train_df, test_df = split_series(df=whole_df, start_test_date=\"2018-01-01\", end_test_date=\"2019-01-01\", date_col_name=\"date\")\n",
    "\n",
    "model_instance = model_class(df=train_df, x_col_name='date', y_col_name='cantidad_pasos', n_periods=364)\n",
    "\n",
    "\n",
    "model_instance.fit_train()\n",
    "fitted_data, predicted_data = model_instance.predict(test_df.copy()[['date']])\n",
    "\n",
    "error_instance = error_class(y_true=test_df['cantidad_pasos'], y_pred=predicted_data)\n",
    "print(error_instance.calculate_error())"
   ],
   "metadata": {
    "collapsed": false
   },
   "id": "f9c7fe596786269"
  },
  {
   "cell_type": "code",
   "execution_count": null,
   "outputs": [],
   "source": [
    "model_class = select_forecasting_model(\"Naive\")\n",
    "for periods in [1, 7, 364]:\n",
    "    model_instance = model_class(df=df_alb_train.copy(), x_col_name='date', y_col_name='cantidad_pasos', n_periods=periods)\n",
    "    model_instance.fit_train()\n",
    "    y_test = model_instance.predict(df_alb_test.copy()[['date']])\n",
    "    model_instance.plot_results(start_date='2016-08-01', end_date='2017-08-01')"
   ],
   "metadata": {
    "collapsed": false
   },
   "id": "3c5d6170e827dcee"
  },
  {
   "cell_type": "code",
   "execution_count": null,
   "outputs": [],
   "source": [
    "model_class = select_forecasting_model(\"rolling_mean\")\n",
    "for period in [3, 7, 364]:\n",
    "    model_instance = model_class(df=df_alb_train.copy(), x_col_name='date', y_col_name='cantidad_pasos', n_periods=period)\n",
    "    model_instance.fit_train()\n",
    "    model_instance.predict(df_alb_test.copy()[['date']])\n",
    "    model_instance.plot_results(start_date='2019-01-01', end_date='2019-09-01')"
   ],
   "metadata": {
    "collapsed": false
   },
   "id": "716a53b44c9f324f"
  },
  {
   "cell_type": "code",
   "execution_count": null,
   "outputs": [],
   "source": [
    "model_class = select_forecasting_model(\"exponential_smoothing\")\n",
    "\n",
    "for alpha in [0.2, 0.5, 0.8]:\n",
    "    model_instance = model_class(df=df_alb_train.copy(), x_col_name='date', y_col_name='cantidad_pasos', smoothing_level=alpha)\n",
    "    model_instance.fit_train()\n",
    "    y_test = model_instance.predict(df_alb_test.copy()[['date']])\n",
    "    model_instance.plot_results(start_date='2019-01-01', end_date='2019-09-01')"
   ],
   "metadata": {
    "collapsed": false
   },
   "id": "5362005a3f3962a9"
  },
  {
   "cell_type": "code",
   "execution_count": null,
   "outputs": [],
   "source": [
    "model_class = select_forecasting_model(\"holt\")\n",
    "\n",
    "for beta in [0.2, 0.5, 0.8]:\n",
    "    model_instance = model_class(df=df_alb_train.copy(), x_col_name='date', y_col_name='cantidad_pasos', smoothing_level=0.5, smoothing_trend=beta)\n",
    "    model_instance.fit_train()\n",
    "    y_test = model_instance.predict(df_alb_test.copy()[['date']])\n",
    "    model_instance.plot_results(start_date='2019-01-01', end_date='2019-09-01')"
   ],
   "metadata": {
    "collapsed": false
   },
   "id": "b999a189d7cc6692"
  },
  {
   "cell_type": "code",
   "execution_count": null,
   "outputs": [],
   "source": [
    "model_class = select_forecasting_model(\"holt_winters\")\n",
    "\n",
    "for gamma in [0.2, 0.5, 0.8]:\n",
    "    model_instance = model_class(df=df_alb_train.copy(), x_col_name='date', y_col_name='cantidad_pasos', smoothing_level=0.5, smoothing_trend=0.1, smoothing_seasonal=gamma, trend=\"additive\", seasonal=\"additive\", seasonal_periods=364)\n",
    "    \n",
    "    model_instance.fit_train()\n",
    "    y_test = model_instance.predict(df_alb_test.copy()[['date']])\n",
    "    model_instance.plot_results(start_date='2019-01-01', end_date='2019-09-01')"
   ],
   "metadata": {
    "collapsed": false
   },
   "id": "5105de859037af0f"
  },
  {
   "cell_type": "code",
   "execution_count": null,
   "outputs": [],
   "source": [
    "model_class = select_forecasting_model(\"optimized_exponential_smoothing\")\n",
    "\n",
    "model_instance = model_class(df=df_alb_train.copy(), x_col_name='date', y_col_name='cantidad_pasos', trend=\"additive\", seasonal=\"additive\", seasonal_periods=364)\n",
    "\n",
    "model_instance.fit_train()\n",
    "y_test = model_instance.predict(df_alb_test.copy()[['date']])\n",
    "model_instance.plot_results(start_date='2019-01-01', end_date='2019-09-01')"
   ],
   "metadata": {
    "collapsed": false
   },
   "id": "c63d3f72d1140c5f"
  },
  {
   "cell_type": "code",
   "execution_count": null,
   "outputs": [],
   "source": [],
   "metadata": {
    "collapsed": false
   },
   "id": "ee10f2e63708ccf5"
  }
 ],
 "metadata": {
  "kernelspec": {
   "display_name": "Python 3",
   "language": "python",
   "name": "python3"
  },
  "language_info": {
   "codemirror_mode": {
    "name": "ipython",
    "version": 2
   },
   "file_extension": ".py",
   "mimetype": "text/x-python",
   "name": "python",
   "nbconvert_exporter": "python",
   "pygments_lexer": "ipython2",
   "version": "2.7.6"
  }
 },
 "nbformat": 4,
 "nbformat_minor": 5
}
